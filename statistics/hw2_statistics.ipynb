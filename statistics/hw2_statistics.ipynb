{
  "nbformat": 4,
  "nbformat_minor": 0,
  "metadata": {
    "colab": {
      "provenance": []
    },
    "kernelspec": {
      "name": "python3",
      "display_name": "Python 3"
    },
    "language_info": {
      "name": "python"
    }
  },
  "cells": [
    {
      "cell_type": "markdown",
      "source": [
        "# ДЗ 2: Статистические методы\n",
        "\n",
        "Выполнила: Карнакова Ксения (@xenahkar)\n"
      ],
      "metadata": {
        "id": "VUFUAzmTaOIR"
      }
    },
    {
      "cell_type": "markdown",
      "source": [
        "---\n",
        "\n",
        "## Задача 1\n",
        "\n",
        "Из партии батареек с номинальным напряжением 12 В наугад выбрано семь штук. Согласно показаниям высокоточного вольтметра, фактически выдаваемое ими напряжение составило: 12,9; 11,6; 13,5; 13,9; 12,1; 11,9; 13,0 В соответственно. Можно ли считать, что среднее напряжение действительно равно 12 В?\n",
        "\n",
        "---\n",
        "\n",
        "\n",
        "### Решение\n",
        "**Гипотезы:**\n",
        "\n",
        "$$ H_0 : \\mu = 12  $$\n",
        " $$ H_a : \\mu \\neq 12  $$\n",
        "\n",
        "Буду использовать одновыборочный t-тест Стьюдента, чтобы проверить гипотезу о равенстве среднего значения.\n",
        "\n",
        "Предпоссылки одновыборочного t-теста Стьюдента это:\n",
        "1. **Нормальность распределения**. Нормальность распределения проверю с помощью теста Шапиро-Уилка, так как у нас всего 7 наблюдений (не буду надеяться на ЦПТ).\n",
        "\n",
        "2. **Независимость наблюдений**. Независимость наблюдений соблюдается: одно наблюдение не влияет на другое."
      ],
      "metadata": {
        "id": "7NPYWTnraapk"
      }
    },
    {
      "cell_type": "code",
      "source": [
        "import numpy as np\n",
        "from scipy import stats\n",
        "import matplotlib.pyplot as plt"
      ],
      "metadata": {
        "id": "Xe0PxuF9JFe4"
      },
      "execution_count": null,
      "outputs": []
    },
    {
      "cell_type": "code",
      "source": [
        "# проверка на нормальность распределения\n",
        "data = [12.9, 11.6, 13.5, 13.9, 12.1, 11.9, 13.0]\n",
        "mu = 12.0\n",
        "alpha = 0.05\n",
        "\n",
        "statistic, pvalue = stats.shapiro(data)\n",
        "print(f\"Тест Шапиро-Уилка: statistic = {statistic:.4f}, p-value = {pvalue:.4f}\")"
      ],
      "metadata": {
        "colab": {
          "base_uri": "https://localhost:8080/"
        },
        "id": "r0Q9oXM1I2C_",
        "outputId": "75eccb8e-e8ee-4db4-e085-0400b7718fdb"
      },
      "execution_count": null,
      "outputs": [
        {
          "output_type": "stream",
          "name": "stdout",
          "text": [
            "Тест Шапиро-Уилка: statistic = 0.9462, p-value = 0.6946\n"
          ]
        }
      ]
    },
    {
      "cell_type": "markdown",
      "source": [
        "`p value = 0.69` => нулевая гипотеза теста Шапиро-Уилка о нормальном распределении данных не отклоняется.\n",
        "\n",
        "Все предпосылки t-теста Стьюдента выполняются.\n",
        "\n",
        "\n"
      ],
      "metadata": {
        "id": "rXn1VmQpJW8s"
      }
    },
    {
      "cell_type": "code",
      "execution_count": null,
      "metadata": {
        "id": "eIJHS4araNsT",
        "colab": {
          "base_uri": "https://localhost:8080/"
        },
        "outputId": "1c40ac0d-b191-4e44-86c8-d4a2ecd7bd39"
      },
      "outputs": [
        {
          "output_type": "stream",
          "name": "stdout",
          "text": [
            "t-statistic = 2.1578, p-value = 0.0743\n",
            "На уровне значимости alpha = 0.05 нет оснований отвергать нулевую гипотезу: среднее значение не отличается от 12 В.\n"
          ]
        }
      ],
      "source": [
        "#  t-тест Стьюдента\n",
        "t_statistic, p_value = stats.ttest_1samp(data, mu)\n",
        "print(f't-statistic = {t_statistic:.4f}, p-value = {p_value:.4f}')\n",
        "\n",
        "if p_value < alpha:\n",
        "    print(f\"На уровне значимости alpha = {alpha} отвергаем нулевую гипотезу: среднее значение отличается от 12 В.\")\n",
        "else:\n",
        "    print(f\"На уровне значимости alpha = {alpha} нет оснований отвергать нулевую гипотезу: среднее значение не отличается от 12 В.\")"
      ]
    },
    {
      "cell_type": "markdown",
      "source": [
        "**Вывод:** Поскольку `p-value=0.07`, то на уровне значимости `alpha = 0.05` нет оснований отвергать нулевую гипотезу о том, что среднее значение равно 12 В."
      ],
      "metadata": {
        "id": "VvKm808aKpH1"
      }
    },
    {
      "cell_type": "markdown",
      "source": [
        "---\n",
        "\n",
        "\n",
        "## Задача 2\n",
        "\n",
        "\n",
        "Есть два различных метода определения процентного содержания жира в мясе. Доля жира для 10 образцов мяса была определена каждым из двух методов. Позволяют ли полученные результаты сделать вывод о том, что один метод даёт в среднем более высокие показания, чем другой?\n",
        "\n",
        "| Образец |1 |2 |3 |4 |5 |6 |7 | 8 | 9 | 10  |\n",
        "|---|---|---|---|---|---|---|---|---|---|---|\n",
        "|Метод I|23,1|23,2|26,5|26,6|27,1|48,3|40,5|25,0|38,4|23,5|\n",
        "|Метод II|22,7|23,6|27,1|27,4|27,4|46,8|40,4|24,9|38,1| 23,8|\n",
        "\n",
        "\n",
        "---\n",
        "\n",
        "\n",
        "### Решение\n",
        "\n",
        " Чтобы сделать вывод о том, что один метод дает в среднем более высокие показания, чем другой, можно попробовать использовать **t-тест для независимых выборок** (в итоге получилось, что нельзя).\n",
        "\n",
        "- **Нулевая гипотеза**: Средние значения процентного содержания жира в методах I и II равны.\n",
        "- **Альтернативная гипотеза**: Среднее значение процентного содержания жира в методе I отличается от содержания жира в методе II.\n",
        "\n",
        "\n",
        "$$ H_0 : \\mu_1 = \\mu_2 $$\n",
        " $$ H_a : \\mu_1 \\neq \\mu_2  $$\n",
        "\n",
        "\n",
        "*Предпосылки теста:*\n",
        "\n",
        "1. **Независимость наблюдений**: выполняется, так как наблюдения в одной группе не зависят от наблюдений в другой группе.\n",
        "\n",
        "2. **Нормальность распределений**: так как в каждой группе по 10 наблюдений, проверю нормальность распределения значений тестом Шапиро-Уилка. Нулевая гипотеза в критерии Шапиро-Уилка: переменная распределена нормально.\n",
        "\n",
        "3. **Гомогенность дисперсий**: проверю с помощью теста Левена. Нулевая гипотеза для этого критерия: дисперсии в двух выборках не имеют значимых различий. Если дисперсии значимо различаются, то тогда буду применять модифицированный t-тест (задав в `stats.ttest_ind` параметр `equal_var=False`)."
      ],
      "metadata": {
        "id": "F4aGHzUSo4NH"
      }
    },
    {
      "cell_type": "code",
      "source": [
        "method_I = np.array([23.1, 23.2, 26.5, 26.6, 27.1, 48.3, 40.5, 25.0, 38.4, 23.5])\n",
        "method_II = np.array([22.7, 23.6, 27.1, 27.4, 27.4, 46.8, 40.4, 24.9, 38.1, 23.8])\n",
        "# проверка на нормальность распределения\n",
        "shapiro_I = stats.shapiro(method_I)\n",
        "shapiro_II = stats.shapiro(method_II)\n",
        "print(f\"Тест Шапиро-Уилка для процентного содержания жира в методе I: statistic = {shapiro_I.statistic:.4f}, p-value = {shapiro_I.pvalue:.4f}\")\n",
        "print(f\"Тест Шапиро-Уилка для процентного содержания жира в методе II: statistic = {shapiro_II.statistic:.4f}, p-value = {shapiro_II.pvalue:.4f}\")\n",
        "\n",
        "# проверка гомогенности дисперсий\n",
        "levene_test = stats.levene(method_I, method_II)\n",
        "print(f\"Тест Левена: statistic = {levene_test.statistic:.4f}, p-value = {levene_test.pvalue:.4f}\")"
      ],
      "metadata": {
        "colab": {
          "base_uri": "https://localhost:8080/"
        },
        "id": "OR9KigdkziAM",
        "outputId": "7eccce7d-9308-4864-d807-08b7b644b080"
      },
      "execution_count": null,
      "outputs": [
        {
          "output_type": "stream",
          "name": "stdout",
          "text": [
            "Тест Шапиро-Уилка для процентного содержания жира в методе I: statistic = 0.7864, p-value = 0.0099\n",
            "Тест Шапиро-Уилка для процентного содержания жира в методе II: statistic = 0.8127, p-value = 0.0207\n",
            "Тест Левена: statistic = 0.0026, p-value = 0.9597\n"
          ]
        }
      ]
    },
    {
      "cell_type": "markdown",
      "source": [
        "Предпосылка **нормальности распределения** данных процентного содержания жира в методе I не выполняется: нулевая гипотеза о нормальности распределения данных на уровне значимости `alpha = 0.05` отклоняется (`p-value = 0.01)`.\n",
        "\n",
        "Предпосылка **нормальности распределения** данных процентного содержания жира в методе II не выполняется: нулевая гипотеза о нормальности распределения данных на уровне значимости `alpha = 0.05` отклоняется (`p-value = 0.02`).\n",
        "\n",
        "Предпосылка **гомогенности дисперсий** выполняется: в тесте Левена получили значение `p-value = 0.96` => на уровне значимости `alpha = 0.05` принимается нулевая гиппотеза о том, что дисперсии в двух выборках не имеют значимых различий.\n",
        "\n",
        "Таким образом, одна из предпосылок для применения t-теста для независимых выборок не выполняется. В этом случае можно использовать **непараметрический тест Манна-Уитни**, который требует только независимость наблюдений (эта предпосылка выполняется, так как наблюдения в одной группе не зависят от наблюдений в другой группе).\n",
        "\n",
        "\n",
        "$$ X_1, \\ldots, X_m - \\text{наблюдения в методе I.} $$\n",
        "$$ Y_1, \\ldots, Y_m - \\text{наблюдения в методе II.} $$\n",
        "$$ F_X(t) = F_Y (t+ \\theta) $$\n",
        "\n",
        "\n",
        "- **Нулевая гипотеза**: Распределения значений процентного содержания жира в методах I и II идентичны, то есть нет значимого сдвига между ними.  \n",
        "- **Альтернативная гипотеза**: Распределения значений процентного содержания жира в методах I и II различны, то есть существует значимый сдвиг между ними.\n",
        "\n",
        "\n",
        "$$ H_0 : \\theta = 0 $$\n",
        " $$ H_a : \\theta \\neq 0  $$\n",
        "\n",
        "\n"
      ],
      "metadata": {
        "id": "XXkkqlDe0Jm4"
      }
    },
    {
      "cell_type": "code",
      "source": [
        "u_statistic, p_value = stats.mannwhitneyu(method_I, method_II)\n",
        "alpha = 0.05\n",
        "\n",
        "print(f\"Тест Манна-Уитни: U-statistic = {u_statistic:.4f}, p-value = {p_value:.4f}\")\n",
        "\n",
        "if p_value < alpha:\n",
        "    print(\"Существует значимая разница между группами (отвергаем нулевую гипотезу в пользу альтернативной на уровне значимости 0.05.).\")\n",
        "else:\n",
        "    print(\"Нет оснований для отвержения нулевой гипотезы на уровне значимости 0.05.\")"
      ],
      "metadata": {
        "colab": {
          "base_uri": "https://localhost:8080/"
        },
        "id": "cqyPco173ith",
        "outputId": "6ae398d4-eb19-4dc5-f541-f47ae5b12ae2"
      },
      "execution_count": null,
      "outputs": [
        {
          "output_type": "stream",
          "name": "stdout",
          "text": [
            "Тест Манна-Уитни: U-statistic = 46.5000, p-value = 0.8205\n",
            "Нет оснований для отвержения нулевой гипотезы на уровне значимости 0.05.\n"
          ]
        }
      ]
    },
    {
      "cell_type": "code",
      "source": [
        "plt.hist(method_I, alpha=0.3, label='Метод I', color='blue')\n",
        "plt.hist(method_II, alpha=0.3, label='Метод II', color='red')\n",
        "plt.title('Гистограммы процентного содержания жира в методах I и II')\n",
        "plt.xlabel('Содержание жира, %')\n",
        "plt.ylabel('Частота')\n",
        "plt.legend()\n",
        "plt.show()"
      ],
      "metadata": {
        "colab": {
          "base_uri": "https://localhost:8080/",
          "height": 472
        },
        "id": "EmE085FTto5X",
        "outputId": "63e5ddf4-3ff4-4896-b030-021b7fe93354"
      },
      "execution_count": null,
      "outputs": [
        {
          "output_type": "display_data",
          "data": {
            "text/plain": [
              "<Figure size 640x480 with 1 Axes>"
            ],
            "image/png": "[encoded data removed]"
          },
          "metadata": {}
        }
      ]
    },
    {
      "cell_type": "markdown",
      "source": [
        "**Вывод 1:** Полученное в тесте Манна-Уитни значение `p-value =  0.82` больше уровня значимости (`alpha = 0.05`). Мы принимаем нулевую гипотезу об отсутствии сдвига между группами. Это означает, что один метод не дает в среднем более высокие показатели по сравнению с другим.\n",
        "\n",
        "Можно было подойти к решению задачи немного иначе: рассмотреть разность по каждому наблюдению в методе I и методе II и выполнить **одновыборочный t-тест**.\n",
        "\n",
        "\n",
        "$$ H_0 : diff = 0  $$\n",
        " $$ H_a : diff \\neq 0  $$\n",
        "\n",
        "*Предпосылки теста:*\n",
        "\n",
        "1. **Нормальность распределения**. Нормальность распределения проверю с помощью теста Шапиро-Уилка.\n",
        "\n",
        "2. **Независимость наблюдений**. Независимость наблюдений соблюдается: одно наблюдение не влияет на другое."
      ],
      "metadata": {
        "id": "2qZA_j30jF3S"
      }
    },
    {
      "cell_type": "code",
      "source": [
        "diff = method_I - method_II\n",
        "diff"
      ],
      "metadata": {
        "colab": {
          "base_uri": "https://localhost:8080/"
        },
        "id": "USgD0dpnouqG",
        "outputId": "6fef5fe0-0d94-4995-9f24-b7100d540363"
      },
      "execution_count": null,
      "outputs": [
        {
          "output_type": "execute_result",
          "data": {
            "text/plain": [
              "array([ 0.4, -0.4, -0.6, -0.8, -0.3,  1.5,  0.1,  0.1,  0.3, -0.3])"
            ]
          },
          "metadata": {},
          "execution_count": 7
        }
      ]
    },
    {
      "cell_type": "code",
      "source": [
        "statistic, pvalue = stats.shapiro(diff)\n",
        "print(f\"Тест Шапиро-Уилка: statistic = {statistic:.4f}, p-value = {pvalue:.4f}\")"
      ],
      "metadata": {
        "colab": {
          "base_uri": "https://localhost:8080/"
        },
        "id": "HV-cnwuVpEnw",
        "outputId": "daaf7b55-1f23-4045-c038-f9287b603811"
      },
      "execution_count": null,
      "outputs": [
        {
          "output_type": "stream",
          "name": "stdout",
          "text": [
            "Тест Шапиро-Уилка: statistic = 0.8998, p-value = 0.2183\n"
          ]
        }
      ]
    },
    {
      "cell_type": "markdown",
      "source": [
        "`p value = 0.22` => нулевая гипотеза теста Шапиро-Уилка о нормальном распределении разности каждого наблюдения не отклоняется.\n",
        "\n",
        "Все предпосылки одновыборочного t-теста Стьюдента для разности наблюдений в методе 1 и методе 2 выполняются."
      ],
      "metadata": {
        "id": "oKpm21QCoUP1"
      }
    },
    {
      "cell_type": "code",
      "source": [
        "#  одновыборочный t-тест Стьюдента\n",
        "t_statistic, p_value = stats.ttest_1samp(diff, 0)\n",
        "print(f't-statistic = {t_statistic}, p-value = {p_value}')\n",
        "\n",
        "if p_value < alpha:\n",
        "    print(f\"На уровне значимости alpha = {alpha} отвергаем нулевую гипотезу: разность по каждому наблюдению отличается от 0.\")\n",
        "else:\n",
        "    print(f\"На уровне значимости alpha = {alpha} нет оснований отвергать нулевую гипотезу: разность по каждому наблюдению не отличается от 0.\")"
      ],
      "metadata": {
        "colab": {
          "base_uri": "https://localhost:8080/"
        },
        "id": "bugNC3XSpXJO",
        "outputId": "3845153c-87e7-4d99-962c-915d1954e82e"
      },
      "execution_count": null,
      "outputs": [
        {
          "output_type": "stream",
          "name": "stdout",
          "text": [
            "t-statistic = 1.7154884978678027e-15, p-value = 0.9999999999999987\n",
            "На уровне значимости alpha = 0.05 нет оснований отвергать нулевую гипотезу: разность по каждому наблюдению не отличается от 0.\n"
          ]
        }
      ]
    },
    {
      "cell_type": "markdown",
      "source": [
        "**Вывод 2:** Полученное с помощью одновыборочного t-теста значение `p-value =  1.00` больше уровня значимости (`alpha = 0.05`). Мы принимаем нулевую гипотезу о том, что разность по каждому наблюдению не отличается от 0. То есть, нет статистически значимых различий в средних показателях двух методов определения процентного содержания жира."
      ],
      "metadata": {
        "id": "ZIdPE0oVqEC6"
      }
    },
    {
      "cell_type": "markdown",
      "source": [
        "---\n",
        "\n",
        "\n",
        "## Задача 3\n",
        "Для проверки гипотезы о том, что жители городов имеют в среднем более высокое систолическое артериальное давление, чем жители сельской местности, было проведено обследование 10 горожан и 9 жителей села примерно одного возраста. Получены следующие данные об уровне давления для горожан: 132, 111, 119, 138, 200, 131, 138, 170, 159, 140; для селян: 115, 190, 127, 155, 148, 121, 116, 121, 197. Можно ли считать верной выдвинутую гипотезу на уровне значимости 0,05?\n",
        "\n",
        "---\n",
        "\n",
        "## Решение\n",
        "\n",
        "Для проверки гипотезы о том, что жители городов имеют в среднем более высокое систолическое артериальное давление, чем жители сельской местности, можно использовать **односторонний t-тест для независимых выборок**.\n",
        "\n",
        "- **Нулевая гипотеза**: Среднее систолическое артериальное давление у жителей городов равно среднему давлению у жителей сельской местности.\n",
        "\n",
        "- **Альтернативная гипотеза**: Среднее систолическое артериальное давление у жителей городов выше среднего систолического артериального давления у жителей сельской местности.\n",
        "\n",
        "\n",
        "$$ H_0 : \\mu_1  = \\mu_2 $$\n",
        " $$ H_a : \\mu_1 > \\mu_2  $$\n",
        "\n",
        "где $$ \\mu_1 - \\text{среднее систолическое артериальное давление у жителей городов,}$$\n",
        "\n",
        "$$ \\mu_2 - \\text{среднее систолическое артериальное давление у жителей сельской местности.}$$\n",
        "\n",
        "\n",
        "*Предпосылки теста:*\n",
        "\n",
        "1. **Независимость наблюдений**: выполняется, так как наблюдения в одной группе не зависят от наблюдений в другой группе.\n",
        "\n",
        "2. **Нормальность распределений**: так как в одной группе 10 наблюдений, а в другой - 9 наблюдений, то проверю нормальность распределения значений тестом Шапиро-Уилка. Нулевая гипотеза в критерии Шапиро-Уилка: переменная распределена нормально.\n",
        "\n",
        "3. **Гомогенность дисперсий**: проверю с помощью теста Левена. Нулевая гипотеза для этого критерия звучит так: дисперсии в двух выборках не имеют значимых различий. Если дисперсии значимо различаются, то тогда буду применять модифицированный t-тест (задав в `stats.ttest_ind` параметр `equal_var=False`)."
      ],
      "metadata": {
        "id": "n728r2_DkQSG"
      }
    },
    {
      "cell_type": "code",
      "source": [
        "urban = [132, 111, 119, 138, 200, 131, 138, 170, 159, 140]\n",
        "rural  = [115, 190, 127, 155, 148, 121, 116, 121, 197]\n",
        "\n",
        "# проверка на нормальность распределения\n",
        "shapiro_I = stats.shapiro(urban)\n",
        "shapiro_II = stats.shapiro(rural)\n",
        "print(f\"Тест Шапиро-Уилка для городского населения: statistic = {shapiro_I.statistic:.4f}, p-value = {shapiro_I.pvalue:.4f}\")\n",
        "print(f\"Тест Шапиро-Уилка для сельского населения: statistic = {shapiro_II.statistic:.4f}, p-value = {shapiro_II.pvalue:.4f}\")\n",
        "\n",
        "# проверка гомогенности дисперсий\n",
        "levene_test = stats.levene(urban, rural)\n",
        "print(f\"Тест Левена: statistic = {levene_test.statistic:.4f}, p-value = {levene_test.pvalue:.4f}\")"
      ],
      "metadata": {
        "colab": {
          "base_uri": "https://localhost:8080/"
        },
        "id": "vdrbEzNRwG0Z",
        "outputId": "43179dd6-88a0-407a-f530-902fc5e0a357"
      },
      "execution_count": null,
      "outputs": [
        {
          "output_type": "stream",
          "name": "stdout",
          "text": [
            "Тест Шапиро-Уилка для городского населения: statistic = 0.9101, p-value = 0.2814\n",
            "Тест Шапиро-Уилка для сельского населения: statistic = 0.8287, p-value = 0.0431\n",
            "Тест Левена: statistic = 0.3975, p-value = 0.5368\n"
          ]
        }
      ]
    },
    {
      "cell_type": "markdown",
      "source": [
        "Предпосылка **нормальности распределения** данных городского населения выполняется: нулевая гипотеза о нормальности распределения данных на уровне значимости `alpha = 0.05` не отклоняется (`p-value = 0.28)`.\n",
        "\n",
        "Предпосылка **нормальности распределения** данных сельского населения не выполняется: нулевая гипотеза о нормальности распределения данных  на уровне значимости `alpha = 0.05` отклоняется (`p-value = 0.04`).\n",
        "\n",
        "Предпосылка **гомогенности дисперсий** выполняется: в тесте Левена получили значение `p-value = 0.54`  => на уровне значимости `alpha = 0.05` принимается нулевая гиппотеза о том, что дисперсии в двух выборках не имеют значимых различий.\n",
        "\n",
        "Воспользуюсь t-тестом, учитывая, что результаты могут быть менее надежными из-за нарушения предположения о нормальности распределения давления сельского населения."
      ],
      "metadata": {
        "id": "6ltMP_Cmychw"
      }
    },
    {
      "cell_type": "code",
      "source": [
        "plt.hist(urban, alpha=0.3, label='городское население', color='grey')\n",
        "plt.hist(rural, alpha=0.3, label='сельское население', color='green')\n",
        "plt.title('Гистограммы распределения систолического артериального давления')\n",
        "plt.xlabel('Давление')\n",
        "plt.ylabel('Частота')\n",
        "plt.legend()\n",
        "plt.show()"
      ],
      "metadata": {
        "colab": {
          "base_uri": "https://localhost:8080/",
          "height": 472
        },
        "id": "dtcMBY7lxbQN",
        "outputId": "c6cdd904-c894-4758-f4eb-0e7c0e5df89d"
      },
      "execution_count": null,
      "outputs": [
        {
          "output_type": "display_data",
          "data": {
            "text/plain": [
              "<Figure size 640x480 with 1 Axes>"
            ],
            "image/png": "[encoded data removed]"
          },
          "metadata": {}
        }
      ]
    },
    {
      "cell_type": "code",
      "source": [
        "# односторонний t-тест\n",
        "t_statistic, p_value = stats.ttest_ind(urban, rural, alternative='greater')\n",
        "alpha = 0.05\n",
        "print(f't-statistic = {t_statistic:.4f}, p-value = {p_value:.4f}')\n",
        "\n",
        "# Проверка гипотезы\n",
        "if p_value < alpha:\n",
        "    print(\"Отвергаем нулевую гипотезу в пользу альтернативной на уровне значимости 0.05.\")\n",
        "else:\n",
        "    print(\"На уровне значимости 0.05 принимаем нулевую гипотезу о равенстве средних давлений у жителей города и сельской местности.\")"
      ],
      "metadata": {
        "colab": {
          "base_uri": "https://localhost:8080/"
        },
        "id": "67-o7ny3y9Y-",
        "outputId": "bf595812-edca-4c25-eacc-5d8229f926fe"
      },
      "execution_count": null,
      "outputs": [
        {
          "output_type": "stream",
          "name": "stdout",
          "text": [
            "t-statistic = 0.0352, p-value = 0.4862\n",
            "На уровне значимости 0.05 принимаем нулевую гипотезу о равенстве средних давлений у жителей города и сельской местности.\n"
          ]
        }
      ]
    },
    {
      "cell_type": "markdown",
      "source": [
        "**Вывод 1:** На уровне значимости 0.05 нет оснований отвергать нулевую гипотезу о равенстве средних давлений у жителей города и сельской местности. Среднее систолическое артериальное давление горожан равно среднему систолическому артериальному давлению у сельских жителей.\n",
        "\n",
        "Поскольку нормальность распределения нарушена для сельских жителей, проведу **непараметрический тест Манна-Уитни**, который требует только независимость наблюдений (эта предпосылка выполняется, так как наблюдения в одной группе не зависят от наблюдений в другой группе).\n",
        "\n",
        "\n",
        "$$ X_1, \\ldots, X_m - \\text{наблюдения у городского населения} $$\n",
        "$$ Y_1, \\ldots, Y_n - \\text{наблюдения у сельского населения} $$\n",
        "$$ F_X(t+ \\theta) = F_Y (t) $$\n",
        "\n",
        "\n",
        "- **Нулевая гипотеза**: Распределение давления горожан правно распределению давления сельского населения, то есть нет значимого сдвига между ними.  \n",
        "- **Альтернативная гипотеза**:  Распределение давления горожан сдвинуто вправо относительно сельского населения, то есть существует значимый сдвиг между ними.\n",
        "\n",
        "\n",
        "$$ H_0 : \\theta = 0 $$\n",
        " $$ H_a : \\theta  > 0  $$\n"
      ],
      "metadata": {
        "id": "m07uEc5TzmfS"
      }
    },
    {
      "cell_type": "code",
      "source": [
        "# Нулевая гипотеза: Распределение давления горожан правно распределению давления сельского населения (theta = 0).\n",
        "# Альтернатиная гипотеза: Распределение давления горожан сдвинуто вправо относительно сельского населения (theta > 0).\n",
        "\n",
        "u_statistic, p_value = stats.mannwhitneyu(urban, rural, alternative='greater')\n",
        "alpha = 0.05\n",
        "\n",
        "print(f\"Тест Манна-Уитни: U-statistic = {u_statistic:.4f}, p-value = {p_value:.4f}\")\n",
        "\n",
        "if p_value < alpha:\n",
        "    print(\"Отвергаем нулевую гипотезу в пользу альтернативной на уровне значимости 0.05\")\n",
        "else:\n",
        "    print(\"Нет оснований для отвержения нулевой гипотезы на уровне значимости 0.05.\")"
      ],
      "metadata": {
        "colab": {
          "base_uri": "https://localhost:8080/"
        },
        "id": "YRxKUY42zjcc",
        "outputId": "911d1896-9a3a-4efd-c05a-9c499c94f926"
      },
      "execution_count": null,
      "outputs": [
        {
          "output_type": "stream",
          "name": "stdout",
          "text": [
            "Тест Манна-Уитни: U-statistic = 50.0000, p-value = 0.3565\n",
            "Нет оснований для отвержения нулевой гипотезы на уровне значимости 0.05.\n"
          ]
        }
      ]
    },
    {
      "cell_type": "markdown",
      "source": [
        "**Вывод 2:** На уровне значимости 0.05 нет оснований отвергать нулевую гипотезу (theta = 0, сдвига нет). Результаты параметрического и непараметрического тестов согласуются. Нет достаточных оснований утверждать, что среднее систолическое артериальное давление горожан выше, чем у сельских жителей. Среднее систолическое артериальное давление горожан равно среднему систолическому артериальному давлению у сельских жителей."
      ],
      "metadata": {
        "id": "LXM6ZvtFAWhR"
      }
    },
    {
      "cell_type": "markdown",
      "source": [
        "---\n",
        "\n",
        "\n",
        "## Задача 4\n",
        "Известно, что 52% новорождённых детей — мальчики, а 48% — девочки. В случайной выборке из 5 000 человек в возрасте от 30 до 60 лет мужчин оказалось 2 500. Можно ли на уровне значимости 0,05 считать, основываясь на этих данных, что смертность среди мужчин и женщин одинакова?\n",
        "\n",
        "---\n",
        "\n",
        "### Решение\n",
        "\n",
        "Смертность среди мужчин и женщин будет одинакова, если доля мужчин в возрасте от 30 до 60 лет будет равна доле родившихся мальчиков.\n",
        "\n",
        "**Гипотезы:**\n",
        "\n",
        "**Нулевая гипотеза:** Доля мужчин в выборке возрастной группы от 30 до 60 лет совпадает с долей новорожденных мальчиков.\n",
        "\n",
        "**Альтернативная гипотеза:** Доля мужчин в выборке возрастной группы от 30 до 60 лет не совпадает с долей новорожденных мальчиков.\n",
        "\n",
        "\n",
        "$$ H_0 : p = 0.52 $$\n",
        " $$ H_a : p \\neq 052  $$\n",
        "\n",
        " Для проверки этих гипотез буду использовать биномиальный тест.\n"
      ],
      "metadata": {
        "id": "yGV5zo0ZBwg_"
      }
    },
    {
      "cell_type": "code",
      "source": [
        "n = 5000 # общее количество в выборке\n",
        "k = 2500 # наблюдаемое количество мужчин\n",
        "p = 0.52 # ожидаемая доля мужчин\n",
        "\n",
        "stats.binomtest(k, n, p)"
      ],
      "metadata": {
        "colab": {
          "base_uri": "https://localhost:8080/"
        },
        "id": "qHcqpevXwEnW",
        "outputId": "992c71dd-1a7c-49f5-d634-946a4676215d"
      },
      "execution_count": null,
      "outputs": [
        {
          "output_type": "execute_result",
          "data": {
            "text/plain": [
              "BinomTestResult(k=2500, n=5000, alternative='two-sided', statistic=0.5, pvalue=0.0048495021595452836)"
            ]
          },
          "metadata": {},
          "execution_count": 14
        }
      ]
    },
    {
      "cell_type": "markdown",
      "source": [
        "\n",
        "**Вывод:**\n",
        "\n",
        "Полученное значение p-value < 0.05 => на уровне значимости `alpha=0.05` нулевая гипотеза отвергается в пользу альтернативной: доля мужчин в выборке возрастной группы от 30 до 60 лет не совпадает с долей новорожденных мальчиков.\n",
        "\n",
        " То есть, на уровне значимости `alpha=0.05` мы можем считать, что смертность среди мужчин и женщин в возрасте от 30 до 60 лет **различается**.\n"
      ],
      "metadata": {
        "id": "5OuvNeYxwGjh"
      }
    },
    {
      "cell_type": "markdown",
      "source": [
        "---\n",
        "## Задача 5\n",
        "\n",
        "В первом эксперименте для сравнения двух средних X1=17, X2=16 применялся t-критерий Стьюдента, и эти различия оказались значимы (p = 0, 001).\n",
        "\n",
        "Во втором исследовании, также при помощи t - критерия, сравнивались два средних X1=17, X2=36, и эти различия не значимы при p = 0,8. В чем может быть причина таких результатов, при условии, что нулевая и альтернативная гипотезы в обоих случаях одинаковы?\n",
        "\n",
        "---\n",
        "### Решение\n",
        "\n",
        "\n",
        "\n",
        "Разница между средними маленькая, а значение `p-value = 0.001` указывает на значимость различий. Это можно объяснить следующим:\n",
        "- В данном эксперименте маленькая дисперсия, так как при маленькой дисперсии данных различия между средними становятся более очевидными.\n",
        "- Размер выборок мог быть достаточно большим, что увеличило точность оценки среднего и сделало тест более чувствительным.\n",
        "\n",
        "\n",
        "Разница между средними большая, а `p-value = 0.8` указывает, что различие статистически не значимо. Это можно объяснить следующим:\n",
        "-  В данном эксперименте была высокая дисперсия, что могло скрыть значительное различие между средними.\n",
        "-  Размер выборки был маленький, что могло снизить статистическую мощность теста.\n",
        "\n",
        "Кроме влияния размера выборки и дисперсии, на результат t-теста Стьюдента могло повлиять отличное от нормального распределение данных (нарушение предпосылки теста).\n",
        "\n"
      ],
      "metadata": {
        "id": "yGo1hWJ5FQho"
      }
    }
  ]
}